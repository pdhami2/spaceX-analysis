{
 "cells": [
  {
   "cell_type": "markdown",
   "metadata": {},
   "source": [
    "#### Earthquake Data API: https://earthquake.usgs.gov/fdsnws/event/1/\n",
    "\n",
    "##### Question1: How many earthquakes of at least 5 magnitude happened in and around Tonga in May of 2017?\n"
   ]
  },
  {
   "cell_type": "code",
   "execution_count": 1,
   "metadata": {},
   "outputs": [
    {
     "name": "stdout",
     "output_type": "stream",
     "text": [
      "200\n",
      "b'7'\n"
     ]
    }
   ],
   "source": [
    "#Import Requests Libray to interact with API/send HTTP requests\n",
    "import requests\n",
    "#Tonga Location [\"latitude\"=-21.17&longitude=-175.19]\n",
    "#Count number of earthquakes within 500 km of Tonga in May 2017 with atleast 5 magnitude\n",
    "query1=requests.get('https://earthquake.usgs.gov/fdsnws/event/1/count?format=text&starttime=2017-05-01&endtime=2017-05-31&minmagnitude=5&latitude=-21.17&longitude=-175.19&maxradiuskm=500')\n",
    "print(query1.status_code)\n",
    "print(query1.content)"
   ]
  },
  {
   "cell_type": "markdown",
   "metadata": {},
   "source": [
    "##### Answer1: Seven earthquakes of at least 5 magnitude happened in and around Tonga in May of 2017."
   ]
  },
  {
   "cell_type": "markdown",
   "metadata": {},
   "source": [
    "#### SpaceX Launch Data - https://github.com/r-spacex/SpaceX-API/wiki\n",
    "##### 1. In which year did SpaceX first successfully reuse a capsule?\n",
    "##### 2. Which flights used core Merlin 1C?\n",
    "##### 3. Transform this launch data into the following relational tables and document your model\n"
   ]
  },
  {
   "cell_type": "markdown",
   "metadata": {},
   "source": [
    "###### Question1. In which year did SpaceX first successfully reuse a capsule?\n",
    "###### Approach - For any successful reuse of a capsule, reuse.capsule should be True"
   ]
  },
  {
   "cell_type": "code",
   "execution_count": 2,
   "metadata": {},
   "outputs": [],
   "source": [
    "import urllib\n",
    "from urllib.request import urlopen\n",
    "import json\n",
    "from pandas.io.json import json_normalize\n",
    "import pandas as pd\n",
    "response = urlopen('https://api.spacexdata.com/v2/launches').read()\n",
    "#Import json data to python dictionary\n",
    "launch= json.loads(response)\n",
    "#Transform back to JSON objects, launches Table is crucial as I wouldn't be duplicating or deleting data from launches\n",
    "launches = pd.io.json.json_normalize(launch)"
   ]
  },
  {
   "cell_type": "code",
   "execution_count": 3,
   "metadata": {},
   "outputs": [
    {
     "name": "stdout",
     "output_type": "stream",
     "text": [
      "launch_date_utc    2017-06-03T21:07:00.000Z\n",
      "reuse.capsule                          True\n",
      "dtype: object\n"
     ]
    }
   ],
   "source": [
    "#From reading the details and checking the original launch, the minimum launch date is in year 2014\n",
    "capsule=launches[['launch_date_utc','reuse.capsule']]\n",
    "print(capsule.loc[capsule['reuse.capsule'] == True].min())"
   ]
  },
  {
   "cell_type": "markdown",
   "metadata": {},
   "source": [
    "###### Answer 1. SpaceX first successfully reuse a capsule in 2017"
   ]
  },
  {
   "cell_type": "markdown",
   "metadata": {},
   "source": [
    "##### Question 2. Which flights used core Merlin 1C?"
   ]
  },
  {
   "cell_type": "code",
   "execution_count": 4,
   "metadata": {},
   "outputs": [],
   "source": [
    "#Function to flatten data, columns containing dictionaries as data will be converted to new columns\n",
    "def unpack(df, column, fillna=None):\n",
    "    ret = None\n",
    "    if fillna is None:\n",
    "        ret = pd.concat([df, pd.DataFrame((d for idx, d in df[column].iteritems()))], axis=1)\n",
    "        del ret[column]\n",
    "    else:\n",
    "        ret = pd.concat([df, pd.DataFrame((d for idx, d in df[column].iteritems())).fillna(fillna)], axis=1)\n",
    "        del ret[column]\n",
    "    return ret"
   ]
  },
  {
   "cell_type": "markdown",
   "metadata": {},
   "source": [
    "##### Approach - Some flights have more than 1 payloads, which means one core can be used in multiple flights. \n",
    "##### To solve this problem, I'm going to flatten the JSON data and append it to the original table,\n",
    "##### so that I know which flights used which cores"
   ]
  },
  {
   "cell_type": "code",
   "execution_count": 5,
   "metadata": {},
   "outputs": [
    {
     "name": "stdout",
     "output_type": "stream",
     "text": [
      "   flight_number core_serial\n",
      "2              3    Merlin1C\n"
     ]
    }
   ],
   "source": [
    "response = urlopen('https://api.spacexdata.com/v2/launches').read()\n",
    "#Import json data to python dictionary\n",
    "launch= json.loads(response)\n",
    "#Transform back to JSON objects\n",
    "launches = pd.io.json.json_normalize(launch)\n",
    "#launches has 55 rows 29 columns\n",
    "#Unpack the row first stage cores\n",
    "launchdata=unpack(launches, 'rocket.first_stage.cores')\n",
    "\n",
    "#Get the rows containing more than 1 payloads \n",
    "launchdata1=launchdata[launchdata[1].notnull()]\n",
    "launchdata2=launchdata[launchdata[2].notnull()]\n",
    "\n",
    "#Rename the launches and drop extra so that two dataframes can be appended\n",
    "launchdata1=launchdata1.drop([0,2], axis=1).rename(columns={1: 0})\n",
    "launchdata2=launchdata2.drop([0,1], axis=1).rename(columns={2: 0})\n",
    "#Drop the columns 1 and 2 from launch data\n",
    "launchdata=launchdata.drop([1,2], axis=1)\n",
    "#Append the launch data\n",
    "launchdata3=launchdata.append([launchdata1, launchdata2], ignore_index=True)\n",
    "\n",
    "#Unpack the column containing core information\n",
    "launchdata4=unpack(launchdata3, 0)\n",
    "\n",
    "\n",
    "#Dataframe containing flights with core_Serial 1C\n",
    "rockets1C=launchdata4.loc[launchdata4['core_serial'] == 'Merlin1C']\n",
    "print(rockets1C.loc[:,('flight_number','core_serial')])"
   ]
  },
  {
   "cell_type": "markdown",
   "metadata": {},
   "source": [
    "##### Answer 2. Flight number 3"
   ]
  },
  {
   "cell_type": "markdown",
   "metadata": {},
   "source": [
    "##### 3. Transform this launch data into the following relational tables and document your model"
   ]
  },
  {
   "cell_type": "code",
   "execution_count": 6,
   "metadata": {},
   "outputs": [
    {
     "name": "stdout",
     "output_type": "stream",
     "text": [
      "    payload_id rocket_id  flight_number\n",
      "0  FalconSAT-2   falcon1              1\n",
      "1      DemoSAT   falcon1              2\n",
      "2  Trailblazer   falcon1              3\n",
      "3       RatSat   falcon1              4\n",
      "4     RazakSAT   falcon1              5\n"
     ]
    }
   ],
   "source": [
    "#PAYLOAD TABLE\n",
    "#Unpack the row first stage cores\n",
    "launchdata6=unpack(launches, 'rocket.second_stage.payloads')\n",
    "\n",
    "#Get the rows containing more than 1 payloads \n",
    "launchdata7=launchdata6[launchdata6[1].notnull()]\n",
    "\n",
    "#Rename the launches and drop extra so that two dataframes can be appended\n",
    "launchdata8=launchdata7.drop([0], axis=1).rename(columns={1: 0})\n",
    "\n",
    "#Drop the columns 1 and 2 from launch data\n",
    "launchdata9=launchdata6.drop([1], axis=1)\n",
    "#Append the launch data\n",
    "launchdata10=launchdata9.append([launchdata8], ignore_index=True)\n",
    "\n",
    "#Unpack the column containing payload information\n",
    "launchdata11=unpack(launchdata10, 0)\n",
    "intermediary=launchdata11[['payload_id','rocket.rocket_id','flight_number','customers']]\n",
    "intermediary=intermediary.rename(columns={'rocket.rocket_id':'rocket_id'})\n",
    "intermediary['customers']=intermediary['customers'].map(lambda x: str(x)[2:-2])\n",
    "payloads=intermediary[['payload_id','rocket_id','flight_number']]\n",
    "print(payloads.head())"
   ]
  },
  {
   "cell_type": "code",
   "execution_count": 7,
   "metadata": {},
   "outputs": [],
   "source": [
    "#Split the values of a column and expand so the new DataFrame has one split\n",
    "#    value per row. Filters rows where the column is missing.\n",
    "def tidy_split(df, column, sep='|', keep=False):\n",
    "    indexes = list()\n",
    "    new_values = list()\n",
    "    df = df.dropna(subset=[column])\n",
    "    for i, presplit in enumerate(df[column].astype(str)):\n",
    "        values = presplit.split(sep)\n",
    "        if keep and len(values) > 1:\n",
    "            indexes.append(i)\n",
    "            new_values.append(presplit)\n",
    "        for value in values:\n",
    "            indexes.append(i)\n",
    "            new_values.append(value)\n",
    "    new_df = df.iloc[indexes, :].copy()\n",
    "    new_df[column] = new_values\n",
    "    new_df.index = range(len(new_df.index))\n",
    "    return new_df\n",
    "intermediary1=tidy_split(intermediary, 'customers', sep=',')"
   ]
  },
  {
   "cell_type": "code",
   "execution_count": 8,
   "metadata": {},
   "outputs": [
    {
     "name": "stdout",
     "output_type": "stream",
     "text": [
      "    payload_id customersn\n",
      "0  FalconSAT-2      DARPA\n",
      "1      DemoSAT      DARPA\n",
      "2  Trailblazer       NASA\n",
      "3       RatSat     SpaceX\n",
      "4     RazakSAT       ATSB\n"
     ]
    }
   ],
   "source": [
    "intermediary1['customersn']=intermediary1['customers'].str.replace('\\W','')\n",
    "intermediary2=intermediary1.drop(['customers','rocket_id','flight_number'], axis=1)\n",
    "print(intermediary2.head())"
   ]
  },
  {
   "cell_type": "code",
   "execution_count": 9,
   "metadata": {},
   "outputs": [
    {
     "data": {
      "text/html": [
       "<div>\n",
       "<style scoped>\n",
       "    .dataframe tbody tr th:only-of-type {\n",
       "        vertical-align: middle;\n",
       "    }\n",
       "\n",
       "    .dataframe tbody tr th {\n",
       "        vertical-align: top;\n",
       "    }\n",
       "\n",
       "    .dataframe thead th {\n",
       "        text-align: right;\n",
       "    }\n",
       "</style>\n",
       "<table border=\"1\" class=\"dataframe\">\n",
       "  <thead>\n",
       "    <tr style=\"text-align: right;\">\n",
       "      <th></th>\n",
       "      <th>id</th>\n",
       "      <th>name</th>\n",
       "      <th>type</th>\n",
       "    </tr>\n",
       "  </thead>\n",
       "  <tbody>\n",
       "    <tr>\n",
       "      <th>0</th>\n",
       "      <td>falcon1</td>\n",
       "      <td>Falcon 1</td>\n",
       "      <td>rocket</td>\n",
       "    </tr>\n",
       "    <tr>\n",
       "      <th>1</th>\n",
       "      <td>falcon9</td>\n",
       "      <td>Falcon 9</td>\n",
       "      <td>rocket</td>\n",
       "    </tr>\n",
       "    <tr>\n",
       "      <th>2</th>\n",
       "      <td>falconheavy</td>\n",
       "      <td>Falcon Heavy</td>\n",
       "      <td>rocket</td>\n",
       "    </tr>\n",
       "    <tr>\n",
       "      <th>3</th>\n",
       "      <td>starship</td>\n",
       "      <td>Starship</td>\n",
       "      <td>rocket</td>\n",
       "    </tr>\n",
       "  </tbody>\n",
       "</table>\n",
       "</div>"
      ],
      "text/plain": [
       "            id          name    type\n",
       "0      falcon1      Falcon 1  rocket\n",
       "1      falcon9      Falcon 9  rocket\n",
       "2  falconheavy  Falcon Heavy  rocket\n",
       "3     starship      Starship  rocket"
      ]
     },
     "execution_count": 9,
     "metadata": {},
     "output_type": "execute_result"
    }
   ],
   "source": [
    "#Rockets Table\n",
    "query3=pd.read_json(\"https://api.spacexdata.com/v2/rockets\")\n",
    "rockets=query3[['id','name','type']]\n",
    "rockets"
   ]
  },
  {
   "cell_type": "code",
   "execution_count": 10,
   "metadata": {},
   "outputs": [
    {
     "name": "stdout",
     "output_type": "stream",
     "text": [
      "            site_id                                          site_name\n",
      "0   kwajalein_atoll                      Kwajalein Atoll Omelek Island\n",
      "5      ccafs_slc_40  Cape Canaveral Air Force Station Space Launch ...\n",
      "10      vafb_slc_4e  Vandenberg Air Force Base Space Launch Complex 4E\n",
      "35       ksc_lc_39a   Kennedy Space Center Historic Launch Complex 39A\n"
     ]
    }
   ],
   "source": [
    "#Site Table\n",
    "site=launches[['launch_site.site_id','launch_site.site_name_long']]\n",
    "site=site.rename(columns={'launch_site.site_id':'site_id','launch_site.site_name_long':'site_name'})\n",
    "#Remove [] and '' from customers\n",
    "site=site.drop_duplicates()\n",
    "print(site.head())"
   ]
  },
  {
   "cell_type": "code",
   "execution_count": 11,
   "metadata": {},
   "outputs": [
    {
     "name": "stdout",
     "output_type": "stream",
     "text": [
      "  customersn\n",
      "0      DARPA\n",
      "2       NASA\n",
      "3     SpaceX\n",
      "4       ATSB\n",
      "6   NASACOTS\n"
     ]
    }
   ],
   "source": [
    "customers=intermediary2[['customersn']].drop_duplicates('customersn')\n",
    "print(customers.head())"
   ]
  },
  {
   "cell_type": "code",
   "execution_count": 12,
   "metadata": {},
   "outputs": [
    {
     "name": "stdout",
     "output_type": "stream",
     "text": [
      "            id          name    type\n",
      "0      falcon1      Falcon 1  rocket\n",
      "1      falcon9      Falcon 9  rocket\n",
      "2  falconheavy  Falcon Heavy  rocket\n",
      "3     starship      Starship  rocket\n"
     ]
    }
   ],
   "source": [
    "#Read data from Rockets table as the rocketid don't have a unique type in the complete launch data\n",
    "query3=pd.read_json(\"https://api.spacexdata.com/v2/rockets\")\n",
    "rockets=query3[['id','name','type']]\n",
    "print(rockets)"
   ]
  },
  {
   "cell_type": "code",
   "execution_count": 13,
   "metadata": {},
   "outputs": [
    {
     "name": "stdout",
     "output_type": "stream",
     "text": [
      "            site_id                                          site_name\n",
      "0   kwajalein_atoll                      Kwajalein Atoll Omelek Island\n",
      "5      ccafs_slc_40  Cape Canaveral Air Force Station Space Launch ...\n",
      "10      vafb_slc_4e  Vandenberg Air Force Base Space Launch Complex 4E\n",
      "35       ksc_lc_39a   Kennedy Space Center Historic Launch Complex 39A\n"
     ]
    }
   ],
   "source": [
    "#Site Table\n",
    "site=launches[['launch_site.site_id','launch_site.site_name_long']]\n",
    "site=site.rename(columns={'launch_site.site_id':'site_id','launch_site.site_name_long':'site_name'})\n",
    "#Remove [] and '' from customers\n",
    "site=site.drop_duplicates()\n",
    "print(site.head())"
   ]
  },
  {
   "cell_type": "code",
   "execution_count": 14,
   "metadata": {},
   "outputs": [
    {
     "name": "stdout",
     "output_type": "stream",
     "text": [
      "   flight_number          site_id rocket_id\n",
      "0              1  kwajalein_atoll   falcon1\n",
      "1              2  kwajalein_atoll   falcon1\n",
      "2              3  kwajalein_atoll   falcon1\n",
      "3              4  kwajalein_atoll   falcon1\n",
      "4              5  kwajalein_atoll   falcon1\n"
     ]
    }
   ],
   "source": [
    "#Flights Table\n",
    "flights=launchdata[['flight_number','launch_site.site_id','rocket.rocket_id']]\n",
    "#print(flights.head())\n",
    "flights1=flights.rename(columns={'launch_site.site_id':'site_id','rocket.rocket_id':'rocket_id'})\n",
    "print(flights1.head())"
   ]
  },
  {
   "cell_type": "code",
   "execution_count": 15,
   "metadata": {},
   "outputs": [
    {
     "name": "stdout",
     "output_type": "stream",
     "text": [
      "    payload_id rocket_id  flight_number\n",
      "0  FalconSAT-2   falcon1              1\n",
      "1      DemoSAT   falcon1              2\n",
      "2  Trailblazer   falcon1              3\n",
      "3       RatSat   falcon1              4\n",
      "4     RazakSAT   falcon1              5\n"
     ]
    }
   ],
   "source": [
    "#PAYLOAD TABLE\n",
    "#Unpack the row first stage cores\n",
    "launchdata6=unpack(launches, 'rocket.second_stage.payloads')\n",
    "\n",
    "#Get the rows containing more than 1 payloads \n",
    "launchdata7=launchdata6[launchdata6[1].notnull()]\n",
    "\n",
    "#Rename the launches and drop extra so that two dataframes can be appended\n",
    "launchdata8=launchdata7.drop([0], axis=1).rename(columns={1: 0})\n",
    "\n",
    "#Drop the columns 1 and 2 from launch data\n",
    "launchdata9=launchdata6.drop([1], axis=1)\n",
    "#Append the launch data\n",
    "launchdata10=launchdata9.append([launchdata8], ignore_index=True)\n",
    "\n",
    "#Unpack the column containing payload information\n",
    "launchdata11=unpack(launchdata10, 0)\n",
    "intermediary=launchdata11[['payload_id','rocket.rocket_id','flight_number','customers']]\n",
    "intermediary=intermediary.rename(columns={'rocket.rocket_id':'rocket_id'})\n",
    "intermediary['customers']=intermediary['customers'].map(lambda x: str(x)[2:-2])\n",
    "payloads=intermediary[['payload_id','rocket_id','flight_number']]\n",
    "print(payloads.head())"
   ]
  },
  {
   "cell_type": "code",
   "execution_count": 16,
   "metadata": {},
   "outputs": [
    {
     "name": "stdout",
     "output_type": "stream",
     "text": [
      "    payload_id customersn\n",
      "0  FalconSAT-2      DARPA\n",
      "1      DemoSAT      DARPA\n",
      "2  Trailblazer       NASA\n",
      "3       RatSat     SpaceX\n",
      "4     RazakSAT       ATSB\n"
     ]
    }
   ],
   "source": [
    "intermediary=payloads[['payload_id','flight_number']]\n",
    "intermediary\n",
    "intermediary1['customersn']=intermediary1['customers'].str.replace('\\W','')\n",
    "intermediary2=intermediary1.drop(['customers','rocket_id','flight_number'], axis=1)\n",
    "print(intermediary2.head())"
   ]
  },
  {
   "cell_type": "code",
   "execution_count": 17,
   "metadata": {},
   "outputs": [
    {
     "name": "stdout",
     "output_type": "stream",
     "text": [
      "  customersn\n",
      "0      DARPA\n",
      "2       NASA\n",
      "3     SpaceX\n",
      "4       ATSB\n",
      "6   NASACOTS\n"
     ]
    }
   ],
   "source": [
    "customers=intermediary2[['customersn']].drop_duplicates('customersn')\n",
    "print(customers.head())"
   ]
  },
  {
   "cell_type": "code",
   "execution_count": null,
   "metadata": {},
   "outputs": [],
   "source": [
    "#Model would have six tables\n",
    "#Rockets Table {PK:ID, Name, Type}\n",
    "#Flights Table {PK: Flights, FK:Site_ID, FK:Rocket_ID}\n",
    "#Sites Table {PK: Site_ID, SiteName}\n",
    "#Payloads Table {PK:ID, FK:Rocket_ID, FK:Flight_Number}\n",
    "#Customers Table {PK: CustomerID}\n",
    "#Intermediary Table between Customers and Payloads\n",
    "#The Customer and Payload relationship is many to many. As payload ID and Customer ID form a unique key and \n",
    "#we will use this as a composite key, I have called this table as intermediary table"
   ]
  },
  {
   "cell_type": "markdown",
   "metadata": {},
   "source": [
    "##### Skip the below"
   ]
  },
  {
   "cell_type": "code",
   "execution_count": null,
   "metadata": {},
   "outputs": [],
   "source": [
    "#Write rockets data to rockets table in sqlite\n",
    "import sqlite3\n",
    "conn=sqlite3.connect('C:/Users/priya/Downloads/sqlitestudio-3.1.1/SQLiteStudio/assignment')\n",
    "cur = conn.cursor()                                  \n",
    "wildcards = ','.join(['?'] * len(rockets.columns))              \n",
    "data = [tuple(x) for x in rockets.values]\n",
    "cur.execute(\"drop table if exists %s\" % 'rockets')\n",
    "col_str = '\"' + '\",\"'.join(rockets.columns) + '\"'\n",
    "cur.execute(\"create table %s (%s)\" % ('rockets', col_str)) \n",
    "cur.executemany(\"insert into %s values(%s)\" % ('rockets', wildcards), data) \n",
    "conn.commit()\n",
    "conn.close()"
   ]
  },
  {
   "cell_type": "code",
   "execution_count": null,
   "metadata": {},
   "outputs": [],
   "source": [
    "#Write data to flights table\n",
    "import sqlite3\n",
    "conn=sqlite3.connect('C:/Users/priya/Downloads/sqlitestudio-3.1.1/SQLiteStudio/assignment')\n",
    "cur = conn.cursor()                                 \n",
    "wildcards = ','.join(['?'] * len(flights.columns))              \n",
    "data = [tuple(x) for x in flights.values]\n",
    "cur.execute(\"drop table if exists %s\" % 'flights')\n",
    "col_str = '\"' + '\",\"'.join(flights.columns) + '\"'\n",
    "cur.execute(\"create table %s (%s)\" % ('flights', col_str)) \n",
    "cur.executemany(\"insert into %s values(%s)\" % ('flights', wildcards), data) \n",
    "conn.commit()\n",
    "conn.close()"
   ]
  }
 ],
 "metadata": {
  "kernelspec": {
   "display_name": "Python 3",
   "language": "python",
   "name": "python3"
  },
  "language_info": {
   "codemirror_mode": {
    "name": "ipython",
    "version": 3
   },
   "file_extension": ".py",
   "mimetype": "text/x-python",
   "name": "python",
   "nbconvert_exporter": "python",
   "pygments_lexer": "ipython3",
   "version": "3.8.1"
  }
 },
 "nbformat": 4,
 "nbformat_minor": 2
}
